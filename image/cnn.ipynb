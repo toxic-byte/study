{
 "cells": [
  {
   "cell_type": "markdown",
   "id": "7b292c22",
   "metadata": {},
   "source": [
    "# CIFAR-10图像分类"
   ]
  },
  {
   "cell_type": "code",
   "execution_count": null,
   "id": "e2f3000d",
   "metadata": {},
   "outputs": [],
   "source": [
    "import torch\n",
    "import torch.nn as nn\n",
    "import torch.nn.functional as F\n",
    "import torch.optim as optim\n",
    "import torchvision\n",
    "import torchvision.transforms as transforms\n",
    "import matplotlib.pyplot as plt\n",
    "\n",
    "device=torch.device('cuda:7' if torch.cuda.is_available() else 'cpu')\n",
    "print(f'using device:{device}')\n",
    "batch_size=256\n",
    "learning_rate=0.01\n",
    "num_epochs=10\n",
    "\n",
    "transform=transforms.Compose([\n",
    "    transforms.ToTensor(),\n",
    "    transforms.Normalize((0.4914,0.4822,0.4465),(0.2023,0.1994,0.2010))\n",
    "])#(R,G,B)的均值和标准差\n",
    "\n",
    "train_set=torchvision.datasets.CIFAR10(root='./data',train=True,download=True,transform=transform)\n",
    "trian_loader=torch.utils.data.Dataloader(train_set,batch_size=batch_size,shuffle=True)\n",
    "test_set=torchvision.datasets.CIFAR10(root='./data',train=False,download=True,transform=transform)\n",
    "test_loader=torch.utils.data.Dataloader(test_set,batch_size=batch_size,shuffle=False)\n",
    "\n",
    "\n"
   ]
  }
 ],
 "metadata": {
  "kernelspec": {
   "display_name": "mmrec",
   "language": "python",
   "name": "python3"
  },
  "language_info": {
   "name": "python",
   "version": "3.10.12"
  }
 },
 "nbformat": 4,
 "nbformat_minor": 5
}
