{
 "cells": [
  {
   "cell_type": "markdown",
   "id": "f70bd75d",
   "metadata": {},
   "source": [
    "# 原理\n",
    "从一个完美的蛋白质序列开始\n",
    "逐步引入随机突变(添加噪声)\n",
    "学习如何从被破坏的序列中恢复原始序列\n",
    "\n",
    "![diff](diff.png)\n",
    "\n",
    "![reason](reason.png)"
   ]
  },
  {
   "cell_type": "code",
   "execution_count": 1,
   "id": "981e5f11",
   "metadata": {},
   "outputs": [
    {
     "name": "stdout",
     "output_type": "stream",
     "text": [
      "x_0 shape:torch.Size([32, 100])\n",
      "x_t shape:torch.Size([32, 100])\n",
      "noise shape:torch.Size([32, 100])\n"
     ]
    }
   ],
   "source": [
    "import torch \n",
    "import torch.nn as nn\n",
    "\n",
    "class SimpleDiffusion(nn.Module):\n",
    "    def __init__(self,seq_length,num_steps):\n",
    "        super().__init__()\n",
    "        self.seq_length=seq_length\n",
    "        self.num_steps=num_steps\n",
    "        self.betas=torch.linspace(1e-4,0.02,num_steps)\n",
    "\n",
    "    def forward(self,x_0):\n",
    "        t=torch.randint(0,self.num_steps,(x_0.shape[0],))\n",
    "        noise=torch.rand_like(x_0)\n",
    "        alpha_bar=torch.cumprod(1-self.betas,dim=0)[t]\n",
    "        x_t=torch.sqrt(alpha_bar)[:,None]*x_0+torch.sqrt(1-alpha_bar)[:,None]*noise\n",
    "        return x_t,noise\n",
    "    \n",
    "model=SimpleDiffusion(seq_length=100,num_steps=1000)\n",
    "x_0=torch.randn(32,100)\n",
    "x_t,noise=model(x_0)\n",
    "\n",
    "print(f\"x_0 shape:{x_0.shape}\")\n",
    "print(f\"x_t shape:{x_t.shape}\")\n",
    "print(f\"noise shape:{noise.shape}\")"
   ]
  },
  {
   "cell_type": "markdown",
   "id": "b99a5a96",
   "metadata": {},
   "source": [
    "# Score-Based生成模型\n",
    "\n",
    "![score](energe.png)"
   ]
  },
  {
   "cell_type": "code",
   "execution_count": 6,
   "id": "195781c2",
   "metadata": {},
   "outputs": [
    {
     "name": "stdout",
     "output_type": "stream",
     "text": [
      "Generated sequences shape:torch.Size([10, 20])\n",
      "Sample sequence:\n",
      "tensor([7.1661, 5.9199, 7.7893, 4.7096, 8.7382, 7.1403, 7.8489, 9.1252, 6.0345,\n",
      "        6.8274, 8.1721, 8.1618, 3.8386, 5.0177, 5.3408, 8.8583, 7.7496, 6.3388,\n",
      "        6.4851, 8.6094], grad_fn=<SelectBackward0>)\n"
     ]
    }
   ],
   "source": [
    "import torch\n",
    "import torch.nn as nn\n",
    "import torch.nn.functional as F\n",
    "\n",
    "class ScoreNet(nn.Module):\n",
    "    def __init__(self,dim):\n",
    "        super().__init__()\n",
    "        self.net=nn.Sequential(\n",
    "            nn.Linear(dim,128),\n",
    "            nn.ReLU(),\n",
    "            nn.Linear(128,128),\n",
    "            nn.ReLU(),\n",
    "            nn.Linear(128,dim)\n",
    "        )\n",
    "\n",
    "    def forward(self,x,t):\n",
    "        return self.net(x)\n",
    "    \n",
    "def langevin_dynamics(score_net,x,n_steps=100,step_size=0.01):\n",
    "    for _ in range(n_steps):\n",
    "        noise=torch.rand_like(x)\n",
    "        grad=score_net(x,None)\n",
    "        x=x+step_size*grad+torch.sqrt(torch.tensor(2*step_size))*noise\n",
    "    return x\n",
    "\n",
    "dim=20\n",
    "score_net=ScoreNet(dim)\n",
    "x=torch.randn(10,dim)\n",
    "generated_sequences=langevin_dynamics(score_net,x)\n",
    "\n",
    "print(f\"Generated sequences shape:{generated_sequences.shape}\")\n",
    "print(f\"Sample sequence:\\n{generated_sequences[0]}\")"
   ]
  },
  {
   "cell_type": "markdown",
   "id": "1e8e4755",
   "metadata": {},
   "source": [
    "# 基于扩散模型的蛋白质设计"
   ]
  },
  {
   "cell_type": "code",
   "execution_count": 9,
   "id": "0860db7e",
   "metadata": {},
   "outputs": [
    {
     "name": "stdout",
     "output_type": "stream",
     "text": [
      "input shape:torch.Size([32, 100])\n",
      "predict noise shape:torch.Size([32, 100])\n",
      "generated_sequences shape:torch.Size([5, 100])\n",
      "sample sequence:\n",
      "tensor([ 0.7650, -0.7414,  0.6749,  0.7513,  0.2382,  0.6098, -1.3936, -0.6235,\n",
      "        -0.2113, -0.0903,  1.9056,  0.3702,  1.2035, -0.6425,  0.0374, -0.2673,\n",
      "         1.1183,  1.0885,  0.8043, -0.0401,  0.7595,  0.2840,  0.4250, -0.7042,\n",
      "        -0.0581, -0.9208, -0.3186,  0.1742, -0.2153, -0.9581,  0.3822, -0.5750,\n",
      "         0.2951,  0.5060,  1.6777, -0.1411, -0.2222,  0.7055,  0.2090, -2.3242,\n",
      "         0.1939,  0.4066, -0.3884, -2.9212, -0.6391,  0.4944, -2.1755, -0.9518,\n",
      "         2.0915, -0.6694, -0.4965,  0.1828, -2.4428,  2.0834,  0.4515,  0.6233,\n",
      "        -1.7486,  0.9551,  0.7655, -0.5323,  0.1307, -0.9355, -0.4072, -2.3063,\n",
      "         0.3661, -1.1529, -0.1884,  0.1885,  1.1705,  0.1068,  1.6158, -1.2301,\n",
      "         0.8702, -0.5995,  0.6600,  0.8932,  0.0264, -2.1870, -0.1651,  1.0527,\n",
      "        -1.2005,  0.3289,  0.6678,  0.8852,  1.9004,  0.6726, -0.0962, -0.3920,\n",
      "        -0.3488, -0.9224,  0.3403, -1.2060,  0.7751,  0.7490,  0.4775, -0.1743,\n",
      "         0.4479, -0.1215,  1.3689, -0.6734])\n"
     ]
    }
   ],
   "source": [
    "import torch \n",
    "import torch.nn as nn \n",
    "import torch.nn.functional as F\n",
    "\n",
    "class SimpleDiffusion(nn.Module):\n",
    "    def __init__(self,seq_length,num_steps):\n",
    "        super().__init__()\n",
    "        self.seq_length=seq_length\n",
    "        self.num_steps=num_steps\n",
    "\n",
    "        self.betas=torch.linspace(1e-4,0.02,num_steps)\n",
    "        self.alphas=1.-self.betas\n",
    "        self.alphas_cumprod=torch.cumprod(self.alphas,dim=0)\n",
    "\n",
    "        self.model=nn.Sequential(\n",
    "            nn.Linear(seq_length,128),\n",
    "            nn.ReLU(),\n",
    "            nn.Linear(128,128),\n",
    "            nn.ReLU(),\n",
    "            nn.Linear(128,seq_length)\n",
    "        )\n",
    "\n",
    "    def forward(self,x_0,t):\n",
    "        noise=torch.rand_like(x_0)\n",
    "        alpha_cumprod=self.alphas_cumprod[t]\n",
    "        x_t=torch.sqrt(alpha_cumprod)[:,None]*x_0+torch.sqrt(1-alpha_cumprod)[:,None]*noise\n",
    "        predict_noise=self.model(x_t)\n",
    "\n",
    "        return predict_noise,noise\n",
    "    \n",
    "    @torch.no_grad()\n",
    "    def sample(self,batch_size):\n",
    "        x=torch.randn(batch_size,self.seq_length)\n",
    "\n",
    "        for t in reversed(range(self.num_steps)):\n",
    "            z=torch.rand_like(x) if t>0 else 0\n",
    "\n",
    "            alpha=self.alphas[t]\n",
    "            alpha_cumprod=self.alphas_cumprod[t]\n",
    "            alpha_cumprod_prev=self.alphas_cumprod[t-1] if t >0 else 1.0\n",
    "\n",
    "            predicted_noise=self.model(x)\n",
    "            beta_tlide=self.betas[t]*(1.-alpha_cumprod_prev)/(1.-alpha_cumprod)\n",
    "\n",
    "            x=(1/torch.sqrt(alpha))*(x-((1-alpha)/torch.sqrt(1-alpha_cumprod))*predicted_noise)+torch.sqrt(beta_tlide)*z\n",
    "\n",
    "            return x\n",
    "        \n",
    "seq_length=100\n",
    "num_steps=1000\n",
    "model=SimpleDiffusion(seq_length,num_steps)\n",
    "\n",
    "x_0=torch.randn(32,seq_length)\n",
    "t=torch.randint(0,num_steps,(32,))\n",
    "\n",
    "predicted_noise,noise=model(x_0,t)\n",
    "\n",
    "print(f\"input shape:{x_0.shape}\")\n",
    "print(f\"predict noise shape:{predicted_noise.shape}\")\n",
    "\n",
    "generated_sequences=model.sample(5)\n",
    "print(f\"generated_sequences shape:{generated_sequences.shape}\")\n",
    "print(f\"sample sequence:\\n{generated_sequences[0]}\")"
   ]
  },
  {
   "cell_type": "code",
   "execution_count": null,
   "id": "e9e48fe7",
   "metadata": {},
   "outputs": [],
   "source": []
  }
 ],
 "metadata": {
  "kernelspec": {
   "display_name": "mmrec",
   "language": "python",
   "name": "python3"
  },
  "language_info": {
   "codemirror_mode": {
    "name": "ipython",
    "version": 3
   },
   "file_extension": ".py",
   "mimetype": "text/x-python",
   "name": "python",
   "nbconvert_exporter": "python",
   "pygments_lexer": "ipython3",
   "version": "3.10.12"
  }
 },
 "nbformat": 4,
 "nbformat_minor": 5
}
