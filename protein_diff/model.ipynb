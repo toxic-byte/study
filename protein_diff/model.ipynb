{
 "cells": [
  {
   "cell_type": "markdown",
   "id": "f70bd75d",
   "metadata": {},
   "source": [
    "# 原理\n",
    "从一个完美的蛋白质序列开始\n",
    "逐步引入随机突变(添加噪声)\n",
    "学习如何从被破坏的序列中恢复原始序列\n",
    "\n",
    "![diff](diff.png)\n",
    "\n",
    "![reason](reason.png)"
   ]
  },
  {
   "cell_type": "code",
   "execution_count": 1,
   "id": "981e5f11",
   "metadata": {},
   "outputs": [
    {
     "name": "stdout",
     "output_type": "stream",
     "text": [
      "x_0 shape:torch.Size([32, 100])\n",
      "x_t shape:torch.Size([32, 100])\n",
      "noise shape:torch.Size([32, 100])\n"
     ]
    }
   ],
   "source": [
    "import torch \n",
    "import torch.nn as nn\n",
    "\n",
    "class SimpleDiffusion(nn.Module):\n",
    "    def __init__(self,seq_length,num_steps):\n",
    "        super().__init__()\n",
    "        self.seq_length=seq_length\n",
    "        self.num_steps=num_steps\n",
    "        self.betas=torch.linspace(1e-4,0.02,num_steps)\n",
    "\n",
    "    def forward(self,x_0):\n",
    "        t=torch.randint(0,self.num_steps,(x_0.shape[0],))\n",
    "        noise=torch.rand_like(x_0)\n",
    "        alpha_bar=torch.cumprod(1-self.betas,dim=0)[t]\n",
    "        x_t=torch.sqrt(alpha_bar)[:,None]*x_0+torch.sqrt(1-alpha_bar)[:,None]*noise\n",
    "        return x_t,noise\n",
    "    \n",
    "model=SimpleDiffusion(seq_length=100,num_steps=1000)\n",
    "x_0=torch.randn(32,100)\n",
    "x_t,noise=model(x_0)\n",
    "\n",
    "print(f\"x_0 shape:{x_0.shape}\")\n",
    "print(f\"x_t shape:{x_t.shape}\")\n",
    "print(f\"noise shape:{noise.shape}\")"
   ]
  },
  {
   "cell_type": "markdown",
   "id": "b99a5a96",
   "metadata": {},
   "source": [
    "# Score-Based生成模型\n",
    "\n",
    "![score](energe.png)"
   ]
  },
  {
   "cell_type": "code",
   "execution_count": 6,
   "id": "195781c2",
   "metadata": {},
   "outputs": [
    {
     "name": "stdout",
     "output_type": "stream",
     "text": [
      "Generated sequences shape:torch.Size([10, 20])\n",
      "Sample sequence:\n",
      "tensor([7.1661, 5.9199, 7.7893, 4.7096, 8.7382, 7.1403, 7.8489, 9.1252, 6.0345,\n",
      "        6.8274, 8.1721, 8.1618, 3.8386, 5.0177, 5.3408, 8.8583, 7.7496, 6.3388,\n",
      "        6.4851, 8.6094], grad_fn=<SelectBackward0>)\n"
     ]
    }
   ],
   "source": [
    "import torch\n",
    "import torch.nn as nn\n",
    "import torch.nn.functional as F\n",
    "\n",
    "class ScoreNet(nn.Module):\n",
    "    def __init__(self,dim):\n",
    "        super().__init__()\n",
    "        self.net=nn.Sequential(\n",
    "            nn.Linear(dim,128),\n",
    "            nn.ReLU(),\n",
    "            nn.Linear(128,128),\n",
    "            nn.ReLU(),\n",
    "            nn.Linear(128,dim)\n",
    "        )\n",
    "\n",
    "    def forward(self,x,t):\n",
    "        return self.net(x)\n",
    "    \n",
    "def langevin_dynamics(score_net,x,n_steps=100,step_size=0.01):\n",
    "    for _ in range(n_steps):\n",
    "        noise=torch.rand_like(x)\n",
    "        grad=score_net(x,None)\n",
    "        x=x+step_size*grad+torch.sqrt(torch.tensor(2*step_size))*noise\n",
    "    return x\n",
    "\n",
    "dim=20\n",
    "score_net=ScoreNet(dim)\n",
    "x=torch.randn(10,dim)\n",
    "generated_sequences=langevin_dynamics(score_net,x)\n",
    "\n",
    "print(f\"Generated sequences shape:{generated_sequences.shape}\")\n",
    "print(f\"Sample sequence:\\n{generated_sequences[0]}\")"
   ]
  }
 ],
 "metadata": {
  "kernelspec": {
   "display_name": "mmrec",
   "language": "python",
   "name": "python3"
  },
  "language_info": {
   "codemirror_mode": {
    "name": "ipython",
    "version": 3
   },
   "file_extension": ".py",
   "mimetype": "text/x-python",
   "name": "python",
   "nbconvert_exporter": "python",
   "pygments_lexer": "ipython3",
   "version": "3.10.12"
  }
 },
 "nbformat": 4,
 "nbformat_minor": 5
}
